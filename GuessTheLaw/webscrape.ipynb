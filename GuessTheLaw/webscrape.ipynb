{
 "cells": [
  {
   "cell_type": "code",
   "execution_count": 17,
   "metadata": {},
   "outputs": [
    {
     "name": "stdout",
     "output_type": "stream",
     "text": [
      "Requirement already satisfied: beautifulsoup4 in /Users/alex/Library/Python/3.10/lib/python/site-packages (4.11.1)\n",
      "Requirement already satisfied: soupsieve>1.2 in /Users/alex/Library/Python/3.10/lib/python/site-packages (from beautifulsoup4) (2.3.2.post1)\n"
     ]
    }
   ],
   "source": [
    "!pip3 install beautifulsoup4"
   ]
  },
  {
   "cell_type": "code",
   "execution_count": 18,
   "metadata": {},
   "outputs": [],
   "source": [
    "from bs4 import BeautifulSoup\n",
    "import requests"
   ]
  },
  {
   "cell_type": "code",
   "execution_count": 27,
   "metadata": {},
   "outputs": [],
   "source": [
    "with open('public/stupidlaws.txt', 'a') as file:\n",
    "    urlrand = 'https://www.stupidlaws.com/random-stupid-laws/'\n",
    "    for _ in range(10):\n",
    "        response = requests.get(urlrand)\n",
    "        soup = BeautifulSoup(response.text, 'html.parser')\n",
    "        laws = soup.find_all('a', {'class': 'pcs-post-title'})\n",
    "        for law in laws:\n",
    "            url = law.get('href')\n",
    "            response = requests.get(url)\n",
    "            soup = BeautifulSoup(response.text, 'html.parser')\n",
    "            state = soup.find('div', {'class': 'entry-taxonomies'}).find('a').text\n",
    "            text = soup.find('h1', {'class': 'entry-title'}).text\n",
    "            file.writelines([url + \"\\n\", state + \"\\n\", text + \"\\n\"])"
   ]
  },
  {
   "cell_type": "code",
   "execution_count": 33,
   "metadata": {},
   "outputs": [],
   "source": [
    "import random\n",
    "\n",
    "verbs = [\"staring down\", \"using\", \"smelling\", \"jumping around\", \"protesting\", \"eating\", \"wearing\", \"carrying\", \"dancing with\", \"singing with\", \"hugging\", \"playing pranks on\", \"using electronic devices on\", \"using negative words target at\", \"using more than three syllables talking to\", \"using more than three colors while describing\", \"using more than one exclamation point in a sentence about\", \"using the word 'very' in regards to\", \"using the word 'really' in relation to\"]\n",
    "nouns = [\"a custom umbrella\", \"a hat\", \"ice cream\", \"socks with sandals\", \"a spare pair of underwear\", \"a pet rock\", \"rainbow-colored socks\", \"a stranger\", \"a pet unicorn\", \"a pet alien\", \"a pet robot\", \"a pet talking dog\", \"a pet talking cat\", \"a pet talking parrot\", \"a pet talking fish\", \"a pet talking hamster\", \"a pet talking snake\", \"a pet talking lizard\", \"a pet talking turtle\", \"a pet talking rabbit\"]\n",
    "locations = [\"next to someone drinking coca cola\", \"on a staircase with less than 10 steps\", \"on a small boat\", \"on a rocket\", \"in restroom of the opposite gender\", \"in a public restroom\", \"at all times\", \"once a day\", \"before 10 a.m\", \"twice in one week\", \"for at least 15 minutes per day\", \"with every meal\", \"in the shower\", \"in a sentence\", \"in a week\", \"in a month\", \"in a year\", \"in conversation\", \"in a sentence\", \"in a day\", \"in a week\", \"in a month\", \"in a year\", \"in February\"]\n",
    "\n",
    "with open('public/fakelaws.txt', 'a') as file:\n",
    "    for _ in range(100):\n",
    "        fake_law = \"It is illegal to be \" + random.choice(verbs) + \" \" + random.choice(nouns) + \" \" + random.choice(locations) + \".\"\n",
    "        file.write(fake_law + \"\\n\")\n",
    "        fake_law = \"One must be \" + random.choice(verbs) + \" \" + random.choice(nouns) + \" \" + random.choice(locations) + \".\"\n",
    "        file.write(fake_law + \"\\n\")"
   ]
  },
  {
   "cell_type": "code",
   "execution_count": 41,
   "metadata": {},
   "outputs": [
    {
     "name": "stdout",
     "output_type": "stream",
     "text": [
      "{'Alamosa', 'Galesburg', 'Berea', 'Kenosha', 'Winston-Salem', 'Hartford', 'Purdy', 'Mesa', 'Deming', 'Newcastle', 'Barre', 'Daytona Beach', 'Washington, DC', 'Brandon', 'Providence', 'Helena', 'Sheboygan', 'Sioux Falls', 'McDonald', 'Topeka', 'Wynona', 'Albuquerque', 'Cumberland', 'Borger', 'Marquette', 'Ottawa', 'Mount Vernon', 'Albany', 'Galveston', 'Centerville', 'Connellsville', 'Kirkland', 'Wisconsin', 'Prince William County', 'Sydney', 'Natchez', 'Everett', 'Halethrope', 'Trenton', 'Portola', 'Paris', 'North Carolina', 'Colorado', 'Fort Madison', 'Nicholas County', 'Thomasville', 'Canton', 'Fenwick Island', 'Bartlesville', 'Hazelhurst', 'El Monte', 'Oxford', 'Mooresville', 'Freeport', 'Arkansas', 'Reno', 'Frankfort', 'Willamantic', 'Minnesota', 'Melbourne', 'Ramat', 'Horner', 'Ottumwa', 'Pocatello', 'Ontario', 'Staten Island', 'Crystal Lake', 'Terre Haute', 'Guilford', 'Bell Buckle', 'England', 'Clemson', 'Long Beach', 'Lafayette', 'Jackson', 'Wyoming', 'Hallowell', 'Shasta Lake', 'Mobile', 'Pacific Grove', 'Fayetteville', 'Cripple Creek', 'University City', 'Derby', 'Woburn', 'Idaho', 'Waverly', 'Bahrain', 'Bremerton', 'Texarkana', 'Newport', 'Chillicothe', 'Cobourg', 'Marietta', 'Australia', 'Cape Coral', 'Lowell', 'Rumford', 'Beaumont', 'Fargo', 'Sweden', 'Rockville', 'Alexandria', 'Indianola', 'Montgomery', 'Missouri', 'Aberdeen', 'Hastings', 'Delaware', 'Denver', 'Fairbanks', 'Alderson', 'Marlboro', 'Thousand Oaks', 'Queensland', 'Greene', 'Belhaven', 'Key West', 'Montana', 'Augusta', 'Pueblo', 'Lang', 'Clinton', 'Wayland', 'Lebanon', 'Carbondale', 'Omaha', 'Connorsville', 'Arizona', 'Indianapolis', \"Coeur d'Alene\", 'Scituate', 'Ottowa', 'Philadelphia', 'Atlanta', 'Clark County', 'Oklahoma City', 'Ada', 'Los Angeles', 'West Warwick', 'Hazelton', 'Kaysville', 'Buffalo', 'China', 'Prescott', 'Lee County', 'Clarendon', 'New Britain', 'Indiana', 'Oakland', 'Wallace', 'Sarasota', 'West Virginia', 'San Antonio', 'Harker Heights', 'Isle of Jersey', 'Elkhart', 'Waldron Island', 'Indonesia', 'Chico', 'Montreal', 'Eugene', 'Murray', 'France', 'Temple', 'The Netherlands', 'Zebulon', 'Salem', 'Fayette County', 'Abilene', 'South Bethany', 'Wilbur', 'Kalispell', 'Quitman', 'Culpeper', 'Lewes', 'Vermont', 'Myrtle Creek', 'Bromide', 'New Jersey', 'Lima', 'Bernards Township', 'Hayden', 'International Falls', 'Quebec', 'Elon College', 'Nahant', 'Llanfairpwllgwyngyllgogerychwyrndrobwllllantysiliogogogoch', 'Victoria', 'Clinton County', 'Dublin', 'Haines City', 'Chapel Hill', 'Marblehead', 'Chester', 'Greenville', 'Ridgeland', 'Longbern', 'Maine', 'Vail', 'Harper Woods', 'Hood River', 'Prunedale', 'Provo', 'Mole', 'Detroit', 'Lancaster County', 'Sag Harbor', 'Nashville', 'Tremonton', 'Elko', 'Port Arthur', 'Louisville', 'Stafford County', 'Greece', 'Palm Springs', 'Salt Lake County', 'Salina', 'Hollywood', 'Ventura County', 'Richardson', 'Mount Laurel', 'Waterbury', 'Akron', 'Cottage Grove', 'Cranford', 'Cicero', 'Rhode Island', 'Logan', 'Ireland', 'Wales', 'Hialeah', 'Russell', 'Saudi Arabia', 'Zion', 'Alberta', 'Etobicoke', 'Italy', 'Oklahoma', 'Kanata', 'Hawaii', 'Guadalajara', 'Tulsa', 'Morrisville', 'Miami', 'St. Cloud', 'Connecticut', 'Athens', 'Charleston', 'Newton', 'Electric City', 'Alamo', 'Dallas', 'Southbridge', 'Haines', 'Evansville', 'Moline', 'Guelph', 'Newark', 'Peachtree City', 'Brussels', 'Dubuque', 'Radford', 'Hopkinton', 'Norco', 'Haddon', 'Roswell', 'Texas', 'Soldotna', 'Tucson', 'Denmark', 'Paulding', 'Santa Cruz', 'Germany', 'Whitehall', 'Pennsylvania', 'Frederick', 'Sanford', 'Thailand', 'Morton Grove', 'Ellsworth', 'South Carolina', 'Perryville', 'Trout Creek', 'Norway', 'Massachusetts', 'Brainerd', 'Knoxville', 'Indian Wells', 'Longyearbyen', 'North Andover', 'São Luis', 'Alhambra', 'French Lick Springs', 'Cerritos', 'Destin', 'New Orleans', 'Olympia', 'Dyersburg', 'New Mexico', 'United Kingdom', 'Holyoke', 'Edgeworth', 'United States', 'Fairview Park', 'Auburn', 'St. Croix', 'Washington', 'Baltimore', 'Michigan', 'Switzerland', 'Bangladesh', 'Naples', 'Brewton', 'Seattle', 'Hong Kong', 'Lehigh', 'Ohio', 'Kansas City', 'Gary', 'Uxbridge', 'Cathedral City', 'Liberty', 'Belmont', 'Millville', 'North Dakota', 'Danville', 'South Africa', 'Argentina', 'Riverside', 'Hibbing', 'Arvada', 'Gainesville', 'Little Rock', 'Fresno', 'Beijing', 'Hingham', 'New Zealand', 'Kalamazoo', 'Florida', 'Belgium', 'Spartanburg', 'Brighton', 'Elizabeth', 'Conyers', 'Lubbock County', 'Scotland', 'Huntington', 'Norton', 'Haifa', 'Pinecrest', 'Tennessee', 'California', 'Oregon', 'Bensalem', 'Tryon', 'Sun Prairie', 'Columbus', 'Dunn', 'Devon', 'Port Allen', 'Pullman', 'Urbana', 'Nova Scotia', 'Walla Walla', 'Mexico', 'Dayton', 'Hudson', 'Broken Arrow', 'Wawa', 'Provincetown', \"St. Mary's\", 'Overland Park', 'Portland', 'Mesquite', 'Georgia', 'Cheyenne', 'Florence', 'Franklin', 'Uncategorized', 'Burlington', 'Hawthahorne', 'Kill Devil Hills', 'Walnut', 'Anniston', 'Nebraska', 'Manville', 'Tombstone', 'Springfield', 'Iceland', 'Colorado Springs', 'Spokane County', 'Houston', 'Morocco', 'Orland Park', 'Myrtle Beach', 'Natoma', 'Pensacola', 'Utah', 'Milford', 'Nyala', 'Christiansburg', 'Palm Bay', 'Coral Gables', 'Durango', 'Chicago', 'Ocean City', 'Collierville', 'Illinois', 'Champaign', 'London', 'Milwaukee', 'Ironton', 'Rehoboth Beach', 'Austin', 'Rocky Hill', 'Glendale', 'Jefferson Parish', 'Las Vegas', 'Horneytown', 'Nags Head', 'Kansas', 'Satellite Beach', 'Virginia', 'Biddeford', 'Tonawanda', 'New York City', 'Waterboro', 'Wausau', 'Belvedere', 'La Crosse', 'Globe', 'Lompoc', 'Memphis', 'Rochester', 'Fountain Inn', 'Carlisle', 'Jasper', 'New Hampshire', 'Philippines', 'Mexico City', 'El Paso', 'Aguascalientes', 'Carmel', 'Yukon', 'Glasgow', 'Bettendorf', 'Harrisburg', 'Marion', 'Duluth', 'Maryland', 'Alabama', 'Lowes Crossroads', 'Newtown', 'Asheville', 'Bexley', 'McKeesport', 'Brookfield', 'San Francisco', 'Mohave County', 'Blairstown', 'Forest City', 'York', 'Boston', 'Ogden', 'San Luis Obispo', 'Marceline', 'Cedar Rapids', 'Pasadena', 'Mount Pocono', 'Iowa', 'Richmond', 'Excelsior Springs', 'Corpus Christie', 'Canada', 'Juneau', 'Beaverton', 'Oblong', 'Willowdale', 'Caldwell', 'Temperance', 'Munich', 'Oshawa', 'Brooklyn', 'Crete', 'Israel', 'Hermosa Beach', 'Berkley Heights', 'Norfolk', 'Raleigh', 'Lawrence', 'Korea', 'Dana Point', 'Tampa', 'Merryville', 'Logan County', 'Swaziland', 'Schulter', 'Nevada', 'Japan', 'Allentown', 'Virginia Beach', 'San Jose', 'Eagle', 'Baldwin Park', 'Blythe', 'Joliet', 'Marysville', 'Boise', 'Klamath River', 'New York', 'Longmeadow', 'Brazil', 'Anchorage', 'Warsaw', 'News', 'Linden', 'Youngstown', 'Cambodia', 'South Dakota', 'Rome', 'Alaska', 'Antwerp', 'St. Louis', 'Evanston', 'LeFors', 'Dodge City', 'Boulder', 'Westport', 'Kingsville', 'Normal', 'Maricopa County', 'Carrizozo', 'Spokane', 'Finland', 'Pittsburgh', 'Beaconsfield', 'Owensboro', 'Jonesboro', 'Cambridge', 'Tempe', 'Sea Isle City', 'Des Plaines', 'Minnetonka', 'Stanfield', 'Louisiana', 'Yamhill', 'Singapore', 'Charlotte', 'Kentucky', 'Southern Shores', 'Blackpool', 'Sterling', 'Fort Thomas', 'Park Ridge', 'Wichita', 'Sulphur', 'Hilton Head', 'Russia', 'Eureka', 'Netherlands', 'Rio Claro', 'Winona', 'Columbia', 'Aspen', 'Mississippi', 'Waynesboro', 'Huntsville', 'Lexington', 'Cleveland', 'Cincinnati', 'Acworth', 'Wells', 'Toronto', 'Billings', 'Racine', 'Arad', 'Seaside', 'Turkey', 'Rockwell', 'Nome'}\n"
     ]
    }
   ],
   "source": [
    "locations = set()\n",
    "with open('public/stupidlaws.txt', 'r') as file:\n",
    "    while True:\n",
    "        line = file.readline()\n",
    "        if not line:\n",
    "            break\n",
    "        locations.add(file.readline()[:-1])\n",
    "        file.readline()\n",
    "print(locations)"
   ]
  }
 ],
 "metadata": {
  "kernelspec": {
   "display_name": "Python 3.10.6 64-bit",
   "language": "python",
   "name": "python3"
  },
  "language_info": {
   "codemirror_mode": {
    "name": "ipython",
    "version": 3
   },
   "file_extension": ".py",
   "mimetype": "text/x-python",
   "name": "python",
   "nbconvert_exporter": "python",
   "pygments_lexer": "ipython3",
   "version": "3.10.6"
  },
  "orig_nbformat": 4,
  "vscode": {
   "interpreter": {
    "hash": "aee8b7b246df8f9039afb4144a1f6fd8d2ca17a180786b69acc140d282b71a49"
   }
  }
 },
 "nbformat": 4,
 "nbformat_minor": 2
}
